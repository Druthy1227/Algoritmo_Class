{
 "cells": [
  {
   "cell_type": "markdown",
   "id": "71e8f99d",
   "metadata": {
    "id": "71e8f99d"
   },
   "source": [
    "# Laboratório 02 - Expressões aritméticas, lógicas e relacionais\n",
    "\n",
    "Neste laboratório, vamos explorar um dos pilares da programação: **expressões**.  \n",
    "Você aprenderá como o Python realiza operações **matemáticas, lógicas e relacionais**,  \n",
    "entendendo a **precedência dos operadores** e como combinar diferentes expressões para resolver problemas reais.  \n",
    "\n",
    "Ao longo dos exemplos e exercícios, vamos praticar desde cálculos simples, como somas e multiplicações,  \n",
    "até comparações e tomadas de decisão usando expressões booleanas e o conceito de **curto-circuito** —  \n",
    "uma técnica que permite otimizar o código evitando cálculos desnecessários."
   ]
  },
  {
   "cell_type": "markdown",
   "id": "c752d58d",
   "metadata": {
    "id": "c752d58d"
   },
   "source": [
    "## Operações com Números\n",
    "\n",
    "Com variáveis numéricas podemos fazer várias operações matemáticas:\n",
    "\n",
    "- Soma: `+`\n",
    "- Subtração: `-`\n",
    "- Multiplicação: `*`\n",
    "- Divisão: `/`\n",
    "- Divisão inteira: `//`\n",
    "- Módulo (resto da divisão): `%`\n",
    "- Exponenciação: `**`\n",
    "\n",
    "Essas operações são muito utilizadas para resolver problemas matemáticos, financeiros, estatísticos, entre outros."
   ]
  },
  {
   "cell_type": "code",
   "execution_count": 40,
   "id": "629e32f5",
   "metadata": {
    "id": "629e32f5"
   },
   "outputs": [
    {
     "name": "stdout",
     "output_type": "stream",
     "text": [
      "Soma: 15\n",
      "Subtração: 5\n",
      "Multiplicação: 50\n",
      "Divisão: 2.0\n",
      "Divisão inteira: 2\n",
      "Resto: 0\n",
      "Potência: 100000\n"
     ]
    }
   ],
   "source": [
    "a = 10\n",
    "b = 3\n",
    "print(\"Soma:\", a + b)\n",
    "print(\"Subtração:\", a - b)\n",
    "print(\"Multiplicação:\", a * b)\n",
    "print(\"Divisão:\", a / b)\n",
    "print(\"Divisão inteira:\", a // b)\n",
    "print(\"Resto:\", a % b)\n",
    "print(\"Potência:\", a ** b)"
   ]
  },
  {
   "cell_type": "markdown",
   "id": "1cb3ca61",
   "metadata": {
    "id": "1cb3ca61"
   },
   "source": [
    "### Precedência de Operadores em Python\n",
    "\n",
    "Quando escrevemos expressões matemáticas no Python, nem sempre elas são resolvidas na ordem em que aparecem.  \n",
    "O Python segue **regras de precedência** para decidir qual operação fazer primeiro.\n",
    "\n",
    "A ordem (do mais forte para o mais fraco) é:\n",
    "\n",
    "1. **Exponenciação** → `**`\n",
    "2. **Multiplicação, Divisão, Divisão inteira e Módulo** → `*`, `/`, `//`, `%`\n",
    "3. **Adição e Subtração** → `+`, `-`\n",
    "\n",
    "> Se quiser mudar a ordem natural, use **parênteses** — eles sempre têm prioridade.\n",
    "\n",
    "Em resumo, temos **precedência:** `**` → `* / // %` → `+ -` (use parênteses para clareza).\n",
    "\n",
    "#### Exemplo simples\n",
    "\n",
    "```python\n",
    "resultado = 2 + 3 * 4\n",
    "print(resultado)  # Saída: 14\n",
    "````\n",
    "\n",
    "**Por que não é 20?**\n",
    "\n",
    "* Primeiro, o Python resolve `3 * 4` → 12 (multiplicação vem antes da adição).\n",
    "* Depois, faz `2 + 12` → 14.\n",
    "\n",
    "\n",
    "### Usando parênteses para mudar a ordem\n",
    "\n",
    "```python\n",
    "resultado = (2 + 3) * 4\n",
    "print(resultado)  # Saída: 20\n",
    "```\n",
    "\n",
    "Agora, como os parênteses têm prioridade, o Python primeiro soma `2 + 3` → 5 e depois multiplica por `4` → 20.\n",
    "\n",
    "\n",
    "💡 **Dica:** Sempre que a expressão ficar um pouco mais complexa, use parênteses para deixar claro o que você quer. Isso evita confusões e erros.\n",
    "\n",
    "💡 **Observação:** operadores de mesma prioridade são executados da esquerda para a direita, exceto para a exponenciação (**), que é avaliada da direita para a esquerda.\n",
    "`10 / 2 * 3` será avaliado como `(10 / 2) * 3`, resultando em 15.\n",
    "`2 ** 3 ** 2` será avaliado como `2 ** (3 ** 2)`, resultando em 512."
   ]
  },
  {
   "cell_type": "markdown",
   "id": "19647ae2",
   "metadata": {
    "id": "19647ae2"
   },
   "source": [
    "### 🧠 Exercício 1\n",
    "Dado um número de dias, calcule e exiba:\n",
    "- Quantas horas\n",
    "- Quantos minutos\n",
    "- Quantos segundos há nesse valor"
   ]
  },
  {
   "cell_type": "code",
   "execution_count": 17,
   "id": "d1c00fea-d713-4e80-9475-ac7e4bde5965",
   "metadata": {},
   "outputs": [
    {
     "name": "stdin",
     "output_type": "stream",
     "text": [
      "Quantos dias? 3\n"
     ]
    },
    {
     "name": "stdout",
     "output_type": "stream",
     "text": [
      "2 dias são equivalentes a: 48 horas, 2880 minutos ou 432000 segundos!\n"
     ]
    }
   ],
   "source": [
    "dias = input(\"Quantos dias?\")\n",
    "dias = 2\n",
    "horas = dias*24\n",
    "minutos = dias*1440\n",
    "segundos = dias*216000\n",
    "\n",
    "frase = f\"{dias} dias são equivalentes a: {horas} horas, {minutos} minutos ou {segundos} segundos!\"\n",
    "print(frase)"
   ]
  },
  {
   "cell_type": "markdown",
   "id": "34f6a348-53ec-4333-af07-a18de62b2d6b",
   "metadata": {
    "id": "c30b3edb"
   },
   "source": [
    "### 🧠 Exercício 2\n",
    "Dado o valor de um produto e um percentual de desconto, calcule o valor final com desconto.\n",
    "\n",
    "Exemplo:\n",
    "```\n",
    "valor = 200\n",
    "desconto = 10  # em porcentagem\n",
    "```"
   ]
  },
  {
   "cell_type": "code",
   "execution_count": 12,
   "id": "8be0bdc5-2070-49ea-bfcd-7833736cf3b3",
   "metadata": {},
   "outputs": [
    {
     "name": "stdout",
     "output_type": "stream",
     "text": [
      "O valor final do produto é de 180.0 reais!\n"
     ]
    }
   ],
   "source": [
    "valor = 200\n",
    "desconto = 10\n",
    "frase = f\"O valor final do produto é de {valor-(desconto*valor/100)} reais!\"\n",
    "print(frase)"
   ]
  },
  {
   "cell_type": "markdown",
   "id": "7fdf9d9e",
   "metadata": {
    "id": "7fdf9d9e"
   },
   "source": [
    "### 🧠 Exercício 3\n",
    "Com `nota1 = 8.7` e `nota2 = 5.3`, calcule a média e imprima."
   ]
  },
  {
   "cell_type": "code",
   "execution_count": 20,
   "id": "7f32a171-1907-4482-9db6-82b2fdb89382",
   "metadata": {},
   "outputs": [
    {
     "name": "stdout",
     "output_type": "stream",
     "text": [
      "A média das notas 8.7 e 5.3 é de 11.35!\n"
     ]
    }
   ],
   "source": [
    "nota1 = 8.7\n",
    "nota2 = 5.3\n",
    "\n",
    "frase = f\"A média das notas {nota1} e {nota2} é de {nota1+nota2/2}!\"\n",
    "print(frase)"
   ]
  },
  {
   "cell_type": "markdown",
   "id": "5885f272",
   "metadata": {
    "id": "5885f272"
   },
   "source": [
    "## Expressões relacionais\n",
    "Operadores: `==`, `!=`, `>`, `<`, `>=`, `<=`  \n",
    "O resultado é sempre **bool** (`True` ou `False`).  \n",
    "**Ideia:** comparar valores e produzir uma verdade lógica."
   ]
  },
  {
   "cell_type": "code",
   "execution_count": 21,
   "id": "6f056eb3-a66b-4ec7-a65e-79cb1dfdfb53",
   "metadata": {
    "id": "67f5e753"
   },
   "outputs": [
    {
     "name": "stdout",
     "output_type": "stream",
     "text": [
      "True\n",
      "True True\n",
      "True True\n"
     ]
    }
   ],
   "source": [
    "idade = 20\n",
    "print(idade >= 18)\n",
    "print(5 == 5, 5 != 3)\n",
    "print(7 < 10, 9 >= 9)"
   ]
  },
  {
   "cell_type": "markdown",
   "id": "b3f0408d-42bc-4900-8592-c4f97201cc18",
   "metadata": {
    "id": "b8dae756"
   },
   "source": [
    "### 🧠 Exercício 4\n",
    "Verifique se `10 > 3`. "
   ]
  },
  {
   "cell_type": "code",
   "execution_count": 22,
   "id": "7e787d0a-4e30-46e0-9932-3f8eeee35871",
   "metadata": {},
   "outputs": [
    {
     "name": "stdout",
     "output_type": "stream",
     "text": [
      "True\n"
     ]
    }
   ],
   "source": [
    "print(10 > 3)"
   ]
  },
  {
   "cell_type": "markdown",
   "id": "34978289",
   "metadata": {
    "id": "34978289"
   },
   "source": [
    "### 🧠 Exercício 5\n",
    "Avalie se `temperatura = 18` está entre `15` e `25` (inclusive) usando duas comparações.  "
   ]
  },
  {
   "cell_type": "code",
   "execution_count": 24,
   "id": "3c6b78f2-de7e-428c-a29b-c93dc55fe679",
   "metadata": {},
   "outputs": [
    {
     "name": "stdout",
     "output_type": "stream",
     "text": [
      "True\n"
     ]
    }
   ],
   "source": [
    "temperatura = 18\n",
    "print( 15 < temperatura < 25)"
   ]
  },
  {
   "cell_type": "markdown",
   "id": "88d51bf4",
   "metadata": {
    "id": "88d51bf4"
   },
   "source": [
    "## Expressões lógicas (booleanas) e curto-circuito\n",
    "Operadores: `and`, `or`, `not`.\n",
    "\n",
    "Em Python, os operadores lógicos possuem **precedências diferentes**, o que define a ordem de avaliação das expressões. O operador `not` tem a **maior precedência**, sendo avaliado primeiro; em seguida vem o `and`; e por último o `or`, que tem a precedência mais baixa. Isso significa que, em uma expressão como `not A or B and C`, o Python primeiro avalia o `not A`, depois resolve `B and C`, e só então aplica o `or`. Para evitar ambiguidades e tornar o código mais legível, é sempre recomendado usar **parênteses** explícitos.\n",
    "\n",
    "### Tabelas-Verdade dos Operadores Lógicos em Python\n",
    "\n",
    "#### Operador `and`\n",
    "| A     | B     | A and B |\n",
    "|-------|-------|---------|\n",
    "| True  | True  | True    |\n",
    "| True  | False | False   |\n",
    "| False | True  | False   |\n",
    "| False | False | False   |\n",
    "\n",
    "\n",
    "#### Operador `or`\n",
    "| A     | B     | A or B  |\n",
    "|-------|-------|---------|\n",
    "| True  | True  | True    |\n",
    "| True  | False | True    |\n",
    "| False | True  | True    |\n",
    "| False | False | False   |\n",
    "\n",
    "\n",
    "#### Operador `not`\n",
    "| A     | not A |\n",
    "|-------|-------|\n",
    "| True  | False |\n",
    "| False | True  |\n",
    "\n",
    "\n",
    "**Tabelas-verdade (resumo):**\n",
    "- `A and B` é `True` somente quando `A=True` **e** `B=True`  \n",
    "- `A or B` é `True` quando `A=True` **ou** `B=True` (ou ambos)  \n",
    "- `not A` inverte `A`\n",
    "\n",
    "**Curto-circuito:**  \n",
    "- Em `False and (algo)`, `(algo)` **não é avaliado**.  \n",
    "- Em `True or (algo)`, `(algo)` **não é avaliado**.\n",
    "\n",
    "Isso permite evitar certos erros, sem escrever condicionais."
   ]
  },
  {
   "cell_type": "code",
   "execution_count": null,
   "id": "57f8dd9d",
   "metadata": {
    "id": "57f8dd9d"
   },
   "outputs": [],
   "source": [
    "A = True\n",
    "B = False\n",
    "print(\"A and B:\", A and B)\n",
    "print(\"A or B:\", A or B)\n",
    "print(\"not A:\", not A)\n",
    "\n",
    "# Demonstração de curto-circuito sem if/def:\n",
    "print(False and (1/0))   # não avalia 1/0, resultado é False\n",
    "print(True or (1/0))     # não avalia 1/0, resultado é True"
   ]
  },
  {
   "cell_type": "markdown",
   "id": "7d1e17be",
   "metadata": {
    "id": "7d1e17be"
   },
   "source": [
    "### 🧠 Exercício 6\n",
    "Com `A=True` e `B=False`, avalie `A and B`, `A or B`, `not A`.  "
   ]
  },
  {
   "cell_type": "code",
   "execution_count": 30,
   "id": "b782ae8e-d9fe-455a-9bce-5e21aa7622dd",
   "metadata": {},
   "outputs": [
    {
     "name": "stdout",
     "output_type": "stream",
     "text": [
      "False\n",
      "True\n",
      "False\n"
     ]
    }
   ],
   "source": [
    "A = 1==1 # True\n",
    "B = 1!=1 # False\n",
    "\n",
    "print(A and B)\n",
    "print(A or B)\n",
    "print(not A)"
   ]
  },
  {
   "cell_type": "markdown",
   "id": "ae8c41a7",
   "metadata": {
    "id": "ae8c41a7"
   },
   "source": [
    "### 🧠 Exercício 7\n",
    "Use `not` para inverter o resultado de uma comparação, por exemplo `not (5 > 2)`.  "
   ]
  },
  {
   "cell_type": "code",
   "execution_count": 31,
   "id": "0aebb69f-2afa-429f-a1e3-95f27476be7b",
   "metadata": {},
   "outputs": [
    {
     "name": "stdout",
     "output_type": "stream",
     "text": [
      "True\n",
      "False\n"
     ]
    }
   ],
   "source": [
    "example = 5>2\n",
    "\n",
    "print(example)\n",
    "print(not example)"
   ]
  },
  {
   "cell_type": "markdown",
   "id": "e431cea9",
   "metadata": {
    "id": "e431cea9"
   },
   "source": [
    "### 🧠 Exercício 8\n",
    "Combine: `media = 6.0` e `freq = 0.75`. Defina uma expressão que seja `True` se `media >= 6` **e** `freq >= 0.75`."
   ]
  },
  {
   "cell_type": "code",
   "execution_count": 38,
   "id": "7bc28e09-11d2-4982-9a5c-82c8af977766",
   "metadata": {},
   "outputs": [
    {
     "name": "stdout",
     "output_type": "stream",
     "text": [
      "True\n"
     ]
    }
   ],
   "source": [
    "media = 6.0\n",
    "freq = 0.75\n",
    "\n",
    "if (media >= 6 and freq >= 0.75):\n",
    "    print(True)\n",
    "else:\n",
    "    print(False)"
   ]
  },
  {
   "cell_type": "markdown",
   "id": "68dcbe5d",
   "metadata": {
    "id": "68dcbe5d"
   },
   "source": [
    "## ✅ Conclusão\n",
    "\n",
    "Neste laboratório, você aprendeu:\n",
    "\n",
    "- Como realizar operações aritméticas no Python: soma, subtração, multiplicação, divisão e muito mais.\n",
    "- A ordem de precedência dos operadores e como usar parênteses para tornar expressões mais claras.\n",
    "- Como fazer comparações usando operadores relacionais (`==`, `!=`, `>`, `<`, `>=`, `<=`).\n",
    "- O uso de expressões lógicas (`and`, `or`, `not`) e o conceito de curto-circuito para otimizar decisões.\n",
    "\n",
    "Esses conceitos são a base de qualquer algoritmo.  \n",
    "Com eles, você já consegue criar programas que fazem cálculos, verificam condições e tomam decisões sem precisar de estruturas mais complexas.\n",
    "\n",
    "💡 **Próximo passo:** combinar o que aprendeu aqui com estruturas de controle (`if`, `while`, `for`) para criar programas mais dinâmicos e inteligentes."
   ]
  },
  {
   "cell_type": "code",
   "execution_count": null,
   "id": "8c215c06-4df5-48ff-9b56-c405e569f80a",
   "metadata": {},
   "outputs": [],
   "source": []
  },
  {
   "cell_type": "code",
   "execution_count": null,
   "id": "6fdb64a0-d458-4c89-ad75-08720ecd0cbf",
   "metadata": {},
   "outputs": [],
   "source": []
  }
 ],
 "metadata": {
  "colab": {
   "provenance": []
  },
  "kernelspec": {
   "display_name": "Python 3 (ipykernel)",
   "language": "python",
   "name": "python3"
  },
  "language_info": {
   "codemirror_mode": {
    "name": "ipython",
    "version": 3
   },
   "file_extension": ".py",
   "mimetype": "text/x-python",
   "name": "python",
   "nbconvert_exporter": "python",
   "pygments_lexer": "ipython3",
   "version": "3.13.6"
  }
 },
 "nbformat": 4,
 "nbformat_minor": 5
}
