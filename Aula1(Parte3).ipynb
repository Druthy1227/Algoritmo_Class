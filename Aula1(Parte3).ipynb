{
 "cells": [
  {
   "cell_type": "markdown",
   "id": "021946a7",
   "metadata": {},
   "source": [
    "# Lab 03 - Estruturas Condicionais e de Repetição\n",
    "\n",
    "Nesta aula, apresentaremos conceitos em Portugol para leitura algoritmica e implementações com sintaxe em Pyhton, juntamente com exercícios propostos."
   ]
  },
  {
   "cell_type": "markdown",
   "id": "55ebb65a",
   "metadata": {},
   "source": [
    "## 1) Por que usar **condicionais**?"
   ]
  },
  {
   "cell_type": "markdown",
   "id": "9e7ba63e",
   "metadata": {},
   "source": [
    "Sem estruturas condicionais, o programa **não decide** e acabamos escrevendo várias linhas sequenciais ou tendo de **comentar/descomentar** trechos manualmente.\n",
    "\n",
    "**Exemplo**: classificar se um aluno foi aprovado baseado na sua nota. Não temos como resolver o problema com os comandos que aprendemos até aqui."
   ]
  },
  {
   "cell_type": "code",
   "execution_count": null,
   "id": "494f7a11",
   "metadata": {},
   "outputs": [],
   "source": [
    "nota = 7\n",
    "print(\"Sem condicional (ilustração do problema):\")\n",
    "print(\"Aprovado\")\n",
    "print(\"Recuperação\")\n",
    "print(\"Reprovado\")  # O programa não escolhe, imprime tudo."
   ]
  },
  {
   "cell_type": "markdown",
   "id": "197837dd",
   "metadata": {},
   "source": [
    "### 1.1) Estruturas Condicionais — Teoria (Portugol)\n",
    "\n",
    "A **condicional** escolhe **um** entre **vários fluxos** conforme uma **proposição lógica**.\n",
    "\n",
    "**Forma canônica (`se–entao–senao–fimse`):**\n",
    "```portugol\n",
    "se (condicao) entao\n",
    "    // bloco executado se a condicao for verdadeira\n",
    "senao\n",
    "    // bloco executado caso contrário\n",
    "fimse\n",
    "```\n",
    "\n",
    "- Condições: expressões lógicas (comparações e/ou conectivos).\n",
    "- Podem ser **aninhadas** (uma condicional dentro da outra) ou em **cadeia** com `senao` + `se`.\n",
    "\n",
    "**Padrão de múltiplos ramos (aninhadas)**\n",
    "```portugol\n",
    "se (c1) entao\n",
    "    // ramo 1\n",
    "senao\n",
    "    se (c2) entao\n",
    "        // ramo 2\n",
    "    senao\n",
    "        // ramo padrão\n",
    "    fimse\n",
    "fimse\n",
    "```\n",
    "\n",
    "**Padrão em cadeia**\n",
    "```portugol\n",
    "se (c1) entao\n",
    "    // ramo 1\n",
    "senao se (c2) entao\n",
    "    // ramo 2\n",
    "senao\n",
    "    // ramo padrão\n",
    "fimse\n",
    "```\n",
    "\n",
    "**Operadores comuns (Portugol):**\n",
    "- Relacionais: `=`, `<>`, `<`, `<=`, `>`, `>=`\n",
    "- Lógicos: `nao`, `e`, `ou`\n"
   ]
  },
  {
   "cell_type": "markdown",
   "id": "15adf712",
   "metadata": {},
   "source": [
    "### 1.2) Condicionais em Python\n",
    "```python\n",
    "if condicao1:\n",
    "    # bloco 1\n",
    "elif condicao2:\n",
    "    # bloco 2\n",
    "else:\n",
    "    # bloco padrão\n",
    "```\n",
    "- Comparações: `==`, `!=`, `<`, `<=`, `>`, `>=`\n",
    "- Lógicos: `not`, `and`, `or`\n",
    "- Boas práticas: expressões claras; parênteses para agrupar; evitar lógica ambígua.\n"
   ]
  },
  {
   "cell_type": "markdown",
   "id": "80b21464-35bb-4550-9c24-c25e6deab6f0",
   "metadata": {},
   "source": [
    "### Importante!\n",
    "\n",
    "- **Em Python, a indentação é parte da sintaxe**: os blocos de código são delimitados pelo recuo (INDENT/DEDENT), não por chaves `{}` nem por ponto e vírgula `;`\n",
    "- Depois de um :, o interpretador espera um bloco recuado de forma consistente **(tipicamente 4 espaços)**; se você desalinha, recebe um `IndentationError`\n",
    "- A cada nova linha, o interpretador considera que a instrução terminou (a menos que haja continuação implícita entre `()`, `[]`, `{}` ou explícita com `\\`)\n",
    "- Já o ; é opcional e só serve para colocar várias instruções na mesma linha — prática desaconselhada por afetar a legibilidade.\n",
    "- Essa escolha segue a filosofia do Python (“readability counts”): ao substituir marcadores visuais redundantes (como `;` e `{}`) por espaços significativos, a linguagem reduz ruído sintático, força um estilo uniforme e torna o código mais fácil de ler e manter"
   ]
  },
  {
   "cell_type": "markdown",
   "id": "b7a18b07",
   "metadata": {},
   "source": [
    "### 1.3) Exemplo: a classificação por nota"
   ]
  },
  {
   "cell_type": "code",
   "execution_count": null,
   "id": "849b6956",
   "metadata": {},
   "outputs": [],
   "source": [
    "nota = 7\n",
    "if nota >= 7:\n",
    "    print(\"Aprovado\")\n",
    "elif nota >= 5:\n",
    "    print(\"Recuperação\")\n",
    "else:\n",
    "    print(\"Reprovado\")"
   ]
  },
  {
   "cell_type": "markdown",
   "id": "28d796ed",
   "metadata": {},
   "source": [
    "### 1.4) Exercício guiado: maioridade"
   ]
  },
  {
   "cell_type": "code",
   "execution_count": 2,
   "id": "1489cd83",
   "metadata": {},
   "outputs": [
    {
     "name": "stdin",
     "output_type": "stream",
     "text": [
      "Digite sua idade:  18\n"
     ]
    },
    {
     "name": "stdout",
     "output_type": "stream",
     "text": [
      "Maior de idade\n"
     ]
    }
   ],
   "source": [
    "idade = int(input(\"Digite sua idade: \"))\n",
    "\n",
    "if idade >=18:\n",
    "    print(\"Maior de idade\")\n",
    "else: \n",
    "    print(\"Menor de idade\")"
   ]
  },
  {
   "cell_type": "markdown",
   "id": "e486e8a2",
   "metadata": {},
   "source": [
    "### 1.5) Exercícios\n",
    "\n",
    "1. **Saúde (IMC)**: leia peso (kg) e altura (m), calcule o **IMC = peso / altura²** e classifique (abaixo do peso, normal, sobrepeso, obesidade I/II/III).\n",
    "2. **Esportes (Cartões)**: dada a quantidade de cartões amarelos e vermelhos, indique se o jogador **está suspenso** (ex.: 3 amarelos ou 1 vermelho).\n",
    "3. **Transporte (Velocidade)**: leia velocidade do veículo e limite da via; informe **dentro do limite** ou **multado** (com mensagem de advertência).\n",
    "4. **Educação (Faixa etária)**: classifique `criança (0–12)`, `adolescente (13–17)`, `adulto (18–59)`, `idoso (60+)`. Valide entrada (> 0).\n",
    "\n",
    "\n",
    "Abaixo do peso: IMC inferior a 18,5. \n",
    "\n",
    ".Peso normal: IMC entre 18,5 e 24,9.\n",
    "\n",
    "Sobrepeso: IMC entre 25 e 29,9.\n",
    "\n",
    "Obesidade: IMC igual ou superior a 30. A obesidade é subdividida em graus:\n",
    "\n",
    "Obesidade grau I: IMC entre 30 e 34,9.\n",
    "\n",
    "Obesidade grau II: IMC entre 35 e 39,9.\n",
    "\n",
    "Obesidade grau III (mórbida): IMC igual ou superior a 40. \n"
   ]
  },
  {
   "cell_type": "code",
   "execution_count": 40,
   "id": "2050eb72-cb67-43c9-84c6-b38c390b2bbd",
   "metadata": {},
   "outputs": [
    {
     "name": "stdout",
     "output_type": "stream",
     "text": [
      "Seu IMC é de 22.86\n",
      "Normal\n"
     ]
    }
   ],
   "source": [
    "## Exercício 1\n",
    "\n",
    "#peso = int(input(\"Qual o seu peso?\"))\n",
    "#altura = float(input(\"Qual a sua altura?\"))\n",
    "peso = 70\n",
    "altura = 1.75\n",
    "IMC = (peso/altura**2)\n",
    "frase = (f\"Seu IMC é de {IMC:.2f}\")\n",
    "print(frase)\n",
    "\n",
    "is_abaixo = (IMC <= 18.5)\n",
    "is_normal = (18.5 <= IMC and IMC <= 24.9)\n",
    "is_sobrepeso = (25 <= IMC and IMC <= 29.9)\n",
    "is_obesidadeI = (30 <= IMC and IMC <= 34.9)\n",
    "is_obesidadeII = (35 <= IMC and IMC <= 39.9)\n",
    "is_obesidadeIII = (IMC <= 40)\n",
    "\n",
    "if is_abaixo:\n",
    "    print(\"Abaixo\")\n",
    "elif is_normal:\n",
    "    print(\"Normal\")\n",
    "elif is_sobrepeso:\n",
    "    print(\"Sobrepeso\")\n",
    "elif is_obesidadeI:\n",
    "    print(\"Obesidade I\")\n",
    "elif is_obesidadeII:\n",
    "    print(\"Obesidade II\")\n",
    "elif is_obesidadeIII:\n",
    "    print(\"Obesidade III\")\n",
    "else:\n",
    "    print(\"Error\")"
   ]
  },
  {
   "cell_type": "markdown",
   "id": "859ce2e9",
   "metadata": {},
   "source": [
    "## 2) Por que usar **escolha** (`match–case`)"
   ]
  },
  {
   "cell_type": "markdown",
   "id": "0d397f24",
   "metadata": {},
   "source": [
    "Sem `match–case`, caímos em **cadeias longas** de `if/elif`, o que dificulta leitura e manutenção.\n",
    "Com `match–case`, escrevemos mapeamentos de forma mais **declarativa**.\n",
    "\n",
    "**Exemplo**: um menu simples."
   ]
  },
  {
   "cell_type": "code",
   "execution_count": 9,
   "id": "629776fd",
   "metadata": {},
   "outputs": [
    {
     "name": "stdout",
     "output_type": "stream",
     "text": [
      "Opção 2\n"
     ]
    }
   ],
   "source": [
    "opcao = 2\n",
    "if opcao == 1:\n",
    "    print(\"Opção 1\")\n",
    "elif opcao == 2:\n",
    "    print(\"Opção 2\")\n",
    "elif opcao == 3:\n",
    "    print(\"Opção 3\")\n",
    "else:\n",
    "    print(\"Padrão\")"
   ]
  },
  {
   "cell_type": "markdown",
   "id": "9691908f",
   "metadata": {},
   "source": [
    "### 2.1) Escolha Múltipla — Teoria (Portugol)\n",
    "\n",
    "Quando há muitas alternativas para um mesmo **valor de referência**, prefira `escolha`.\n",
    "\n",
    "```portugol\n",
    "escolha variavel\n",
    "    caso v1:\n",
    "        // ações para v1\n",
    "    caso v2, v3:\n",
    "        // ações para v2 ou v3\n",
    "    outrocaso\n",
    "        // ações padrão\n",
    "fimescolha\n",
    "```\n",
    "- Agrupe casos quando o comportamento for igual.\n",
    "- Use `outrocaso` como **fallback**.\n"
   ]
  },
  {
   "cell_type": "markdown",
   "id": "be28cf95",
   "metadata": {},
   "source": [
    "### 2.2) `match–case` em Python \n",
    "```python\n",
    "match valor:\n",
    "    case 1:\n",
    "        ...\n",
    "    case 2:\n",
    "        ...\n",
    "    case _: # Valor padrão com _\n",
    "        ...  \n",
    "```"
   ]
  },
  {
   "cell_type": "markdown",
   "id": "273c192b",
   "metadata": {},
   "source": [
    "### 2.3) Exemplo: Menu simples com `match–case`"
   ]
  },
  {
   "cell_type": "code",
   "execution_count": null,
   "id": "ce5fdd18",
   "metadata": {},
   "outputs": [],
   "source": [
    "opcao = 2\n",
    "match opcao:\n",
    "    case 1:\n",
    "        print(\"Opção 1\")\n",
    "    case 2:\n",
    "        print(\"Opção 2\")\n",
    "    case 3:\n",
    "        print(\"Opção 3\")\n",
    "    case _:\n",
    "        print(\"Padrão\")"
   ]
  },
  {
   "cell_type": "markdown",
   "id": "096af1f4",
   "metadata": {},
   "source": [
    "### 2.4) Exercícios\n",
    "\n",
    "1. **Dia da semana**: peça um número `1,2,...,7` e imprima o dia correspondente; trate `6` e `7` como **fim de semana**.\n",
    "3. **Classificador de caractere**: leia uma letra ou um número e classifique como `vogal`, `consoante` ou `dígito`.\n",
    "4. **Categoria de tarifa**: Sistemas de cobrança muitas vezes aplicam um fator multiplicador sobre um valor-base conforme a categoria escolhida pelo cliente (por exemplo, econômica, média ou superior). Leia o valor de um produto e uma letra indicando a `categoria` de tarifa `E`, `M` ou `S` e exiba o valor final a ser pago pelo cliente de acordo com o multiplicador, que deve ser aplicado ao valor lido, conforme a tabela:\n",
    "    - E → multiplicador 1.00\n",
    "    - M → multiplicador 1.15\n",
    "    - S → multiplicador 1.30."
   ]
  },
  {
   "cell_type": "markdown",
   "id": "8ea1fa96",
   "metadata": {},
   "source": [
    "## 3) Por que usar **while**?"
   ]
  },
  {
   "cell_type": "markdown",
   "id": "74c04d5b",
   "metadata": {},
   "source": [
    "Sem `while`, teríamos de **repetir** trechos inteiros para leituras/validações. Com `while`, escrevemos **uma vez** e repetimos conforme a condição."
   ]
  },
  {
   "cell_type": "code",
   "execution_count": null,
   "id": "b56df66a",
   "metadata": {},
   "outputs": [],
   "source": [
    "print(\"Sem while (leitura repetida manualmente para 3 valores):\")\n",
    "a = float(input(\"Valor 1: \"))\n",
    "b = float(input(\"Valor 2: \"))\n",
    "c = float(input(\"Valor 3: \"))\n",
    "media = (a+b+c)/3\n",
    "print(\"Média:\", media)"
   ]
  },
  {
   "cell_type": "markdown",
   "id": "67f4e7a1",
   "metadata": {},
   "source": [
    "### 3.1) Laço `enquanto` — Teoria (Portugol)\n",
    "\n",
    "Repete **enquanto a condição for verdadeira** (teste **antes** do corpo).\n",
    "```portugol\n",
    "enquanto (condicao) faca\n",
    "    // corpo do laço\n",
    "fimenquanto\n",
    "```\n",
    "- Use quando **não souber** antecipadamente o número de iterações.\n",
    "- Garanta alteração da condição (evite laços infinitos).\n"
   ]
  },
  {
   "cell_type": "markdown",
   "id": "4f2d3f1f",
   "metadata": {},
   "source": [
    "### 3.2) `while` em Python \n",
    "```python\n",
    "while condicao:\n",
    "    # corpo\n",
    "```\n",
    "- Para sair do laço, use o comando `break`. Dica, pesquise também sobre o comando `continue` e sua diferença para o `break`.\n",
    "- Útil para leitura até **sentinela** (ex.: negativo, vazio). Uma sentinela é um valor especial que indica fim da entrada. Em vez de saber quantas vezes repetir, você lê até encontrar a sentinela. Elas são úteis quando o usuário não sabe quantos itens vai digitar, ou quando você quer dar liberdade para parar a qualquer momento."
   ]
  },
  {
   "cell_type": "markdown",
   "id": "fe7f9ee8",
   "metadata": {},
   "source": [
    "### 3.3) Exemplo: o cálculo da média"
   ]
  },
  {
   "cell_type": "code",
   "execution_count": null,
   "id": "88146d65-b997-452a-b0d0-1a0dcc94107a",
   "metadata": {},
   "outputs": [],
   "source": [
    "print(\"Com while (leitura repetida em loop):\")\n",
    "soma = 0\n",
    "contador = 0\n",
    "while contador < 3:\n",
    "    valor = float(input(f\"Valor {contador+1}: \"))\n",
    "    soma += valor\n",
    "    contador += 1\n",
    "media = soma / 3\n",
    "print(\"Média:\", media)"
   ]
  },
  {
   "cell_type": "markdown",
   "id": "c27ee239",
   "metadata": {},
   "source": [
    "### 3.4) Exercícios \n",
    "\n",
    "1. **Sentinela**: leia números até o usuário digitar um número **negativo**; ao final, mostre **quantos** e **a soma**.\n",
    "2. **Senha com 3 tentativas**: peça uma senha até acertar ou esgotar tentativas.\n",
    "3. **Adivinhação**: escolha um número fixo (ex.: `42`) e peça palpites até acertar; diga se é maior/menor.\n",
    "4. **Conversor contínuo**: peça um valor em °C e mostre em °F; repita até o usuário digitar vazio.\n"
   ]
  },
  {
   "cell_type": "code",
   "execution_count": 49,
   "id": "dff108db-e808-4b1b-8743-b3fbe74f4b23",
   "metadata": {},
   "outputs": [
    {
     "name": "stdin",
     "output_type": "stream",
     "text": [
      "Insira um número positivo 1\n",
      "Insira um número positivo 2\n",
      "Insira um número positivo 3\n",
      "Insira um número positivo 0.5\n",
      "Insira um número positivo -1\n"
     ]
    },
    {
     "name": "stdout",
     "output_type": "stream",
     "text": [
      "Você inseriu 4 números, e a soma deles é de 5.5\n"
     ]
    }
   ],
   "source": [
    "# Exercício 1\n",
    "\n",
    "contador = 1\n",
    "soma = 0\n",
    "i = 0\n",
    "while contador == 1:\n",
    "    insert = float(input((\"Insira um número positivo\")))\n",
    "    soma += insert\n",
    "    i = i+1\n",
    "    if insert > 0:\n",
    "        contador = contador\n",
    "    else:\n",
    "        contador = contador-1\n",
    "\n",
    "frase = f\"Você inseriu {i-1} números, e a soma deles é de {soma}\"\n",
    "print(frase)\n",
    "\n",
    "\n",
    "\n"
   ]
  },
  {
   "cell_type": "code",
   "execution_count": 42,
   "id": "a413793a-e741-4d28-b6d0-cfe707083c04",
   "metadata": {},
   "outputs": [
    {
     "name": "stdin",
     "output_type": "stream",
     "text": [
      "Tente uma senha 1234\n"
     ]
    },
    {
     "name": "stdout",
     "output_type": "stream",
     "text": [
      "Senha correta\n"
     ]
    }
   ],
   "source": [
    "# Exercício 2\n",
    "\n",
    "senha = \"1234\"\n",
    "i = 3\n",
    "while i>0:\n",
    "    tentativa = input(\"Tente uma senha\")\n",
    "    if senha != tentativa:\n",
    "        i = i-1\n",
    "        print(f\"Senha incorreta, você possui mais {i} tentativas!\")\n",
    "    else:\n",
    "        print(\"Senha correta!\")\n",
    "        break\n"
   ]
  },
  {
   "cell_type": "code",
   "execution_count": 48,
   "id": "aca37f6a-2e57-478a-b9e1-141aea19de6e",
   "metadata": {},
   "outputs": [
    {
     "name": "stdin",
     "output_type": "stream",
     "text": [
      "Tente adivinhar o número 1\n"
     ]
    },
    {
     "name": "stdout",
     "output_type": "stream",
     "text": [
      "Número menor que o previsto!\n"
     ]
    },
    {
     "name": "stdin",
     "output_type": "stream",
     "text": [
      "Tente adivinhar o número 43\n"
     ]
    },
    {
     "name": "stdout",
     "output_type": "stream",
     "text": [
      "Número maior que o previsto!\n"
     ]
    },
    {
     "name": "stdin",
     "output_type": "stream",
     "text": [
      "Tente adivinhar o número 42\n"
     ]
    },
    {
     "name": "stdout",
     "output_type": "stream",
     "text": [
      "Número correto\n"
     ]
    }
   ],
   "source": [
    "# Exercício 3\n",
    "\n",
    "# Adivinhação: escolha um número fixo (ex.: 42) e peça palpites até acertar; diga se é maior/menor\n",
    "\n",
    "X = 42\n",
    "i = 1\n",
    "while i == 1:\n",
    "    tentativa = int(input(\"Tente adivinhar o número\"))\n",
    "    if tentativa == X:\n",
    "        print(\"Número correto\")\n",
    "        i = i-1\n",
    "    elif tentativa >= X:\n",
    "        print(\"Número maior que o previsto!\")\n",
    "    elif tentativa <= X:\n",
    "        print(\"Número menor que o previsto!\")\n",
    "        \n",
    "        \n",
    "    \n"
   ]
  },
  {
   "cell_type": "code",
   "execution_count": null,
   "id": "af3cc28a-71a0-4226-9780-f60886363fd1",
   "metadata": {},
   "outputs": [
    {
     "name": "stdin",
     "output_type": "stream",
     "text": [
      "Temperatura a se converter 0\n"
     ]
    },
    {
     "name": "stdout",
     "output_type": "stream",
     "text": [
      "Fim da conversão! Você converteu 0 temperaturas!\n"
     ]
    }
   ],
   "source": [
    "# Exercício 4 || Conversor contínuo: peça um valor em °C e mostre em °F; repita até o usuário digitar vazio.\n",
    "\n",
    "\n",
    "count = 0\n",
    "i = 0\n",
    "vazio = None\n",
    "\n",
    "while i == 0:\n",
    "    temp_C = float(input(\"Temperatura a se converter\"))\n",
    "    if i == 0 and temp_C != 0:\n",
    "        print((temp_C * 1.8)+32)\n",
    "    else:\n",
    "        print(f\"Fim da conversão! Você converteu {i} temperaturas!\")\n",
    "    \n",
    "\n",
    "\n",
    "\n",
    "\n",
    "    \n",
    "    \n",
    "             \n",
    "\n"
   ]
  },
  {
   "cell_type": "markdown",
   "id": "1ed95c4a",
   "metadata": {},
   "source": [
    "## 4) Por que usar **for**?"
   ]
  },
  {
   "cell_type": "markdown",
   "id": "b302d76f",
   "metadata": {},
   "source": [
    "Sem `for`, teríamos de escrever **linhas repetidas** para tarefas previsíveis. Com `for`, controlamos **início, fim e passo** de forma concisa."
   ]
  },
  {
   "cell_type": "code",
   "execution_count": 23,
   "id": "e78f34b9",
   "metadata": {},
   "outputs": [
    {
     "name": "stdout",
     "output_type": "stream",
     "text": [
      "Sem for (tabuada do 7 manual):\n",
      "7 x 1 = 7\n",
      "7 x 2 = 14\n",
      "7 x 3 = 21\n",
      "7 x 4 = 28\n",
      "7 x 5 = 35\n",
      "7 x 6 = 42\n",
      "7 x 7 = 49\n",
      "7 x 8 = 56\n",
      "7 x 9 = 63\n",
      "7 x 10 = 70\n"
     ]
    }
   ],
   "source": [
    "print(\"Sem for (tabuada do 7 manual):\")\n",
    "print(\"7 x 1 =\", 7*1)\n",
    "print(\"7 x 2 =\", 7*2)\n",
    "print(\"7 x 3 =\", 7*3)\n",
    "print(\"7 x 4 =\", 7*4)\n",
    "print(\"7 x 5 =\", 7*5)\n",
    "print(\"7 x 6 =\", 7*6)\n",
    "print(\"7 x 7 =\", 7*7)\n",
    "print(\"7 x 8 =\", 7*8)\n",
    "print(\"7 x 9 =\", 7*9)\n",
    "print(\"7 x 10 =\", 7*10)"
   ]
  },
  {
   "cell_type": "markdown",
   "id": "5fa8fd2c",
   "metadata": {},
   "source": [
    "### 4.1) Laço `para` — Teoria (Portugol)\n",
    "\n",
    "Quando **sabemos** o número de repetições:\n",
    "```portugol\n",
    "para i de inicio ate fim faca\n",
    "    // corpo\n",
    "fimpara\n",
    "```\n",
    "- Variação com passo: `para i de inicio ate fim passo p faca`.\n",
    "- Ideal para intervalos finitos."
   ]
  },
  {
   "cell_type": "markdown",
   "id": "5c8cb143",
   "metadata": {},
   "source": [
    "### 4.2) `for` em Python — Teoria\n",
    "```python\n",
    "for i in range(inicio, fim_exclusivo, passo):\n",
    "    ...\n",
    "```\n",
    "- `range(a, b, s)` gera `a, a+s, ..., < b`.\n",
    "- `range(a, b, 1)` é equivalente a `range(a, b)` porque o passo padrão já é `1`. Só precisamos indicar o `s` (passo) quando ele for diferente de `1`.\n",
    "- Também funciona com strings! Exemplo:\n",
    "```python \n",
    "for i in \"Isto é uma string\":\n",
    "    ...\n",
    "```\n",
    "- Em aulas posteriores, veremos o seu uso com vetores.\n"
   ]
  },
  {
   "cell_type": "markdown",
   "id": "064c552b",
   "metadata": {},
   "source": [
    "### 4.3) Exemplo: a tabuada do 7"
   ]
  },
  {
   "cell_type": "code",
   "execution_count": null,
   "id": "f7c71a6b-f0ac-4160-b228-64a6362ca0fc",
   "metadata": {},
   "outputs": [],
   "source": [
    "print(\"Com for (tabuada do 7):\")\n",
    "for i in range(1, 11):\n",
    "    print(f\"7 x {i} = {7*i}\")"
   ]
  },
  {
   "cell_type": "markdown",
   "id": "d153d19d-fe85-4b22-bdec-7f059ecb65d8",
   "metadata": {},
   "source": [
    "**Atenção!**\n",
    "\n",
    "As *f-strings* em Python são uma forma alternativa de exibir valores no `print()` sem precisar separar os elementos por vírgulas, pois permitem inserir variáveis e expressões diretamente dentro de uma string prefixada com `f`, usando chaves `{}`; dessa maneira, em vez de escrever `print(\"Nome:\", nome, \"Idade:\", idade)`, é possível escrever `print(f\"Nome: {nome} Idade: {idade}\")`, o que torna o código mais legível e dá maior controle sobre a formatação da saída. O `f` no início de uma string em Python significa **\"formatted string\"** (*string formatada*). Ele indica ao Python que dentro daquela string podem existir expressões entre chaves `{ }` que serão **avaliadas e substituídas pelo valor correspondente** no momento da execução. Ou seja, o `f` transforma a string em um modelo dinâmico onde você pode **inserir variáveis, expressões matemáticas ou até chamadas de funções** diretamente no texto."
   ]
  },
  {
   "cell_type": "markdown",
   "id": "c94cbfea",
   "metadata": {},
   "source": [
    "### 4.4) Exercício guiado: pares de 0 a 20 (e em ordem decrescente)"
   ]
  },
  {
   "cell_type": "code",
   "execution_count": null,
   "id": "14f8a3e2",
   "metadata": {},
   "outputs": [],
   "source": [
    "for i in range(0, ..., ...):\n",
    "    print(i)\n",
    "print(\"Decrescente:\")\n",
    "for i in range(20, -1, -2):\n",
    "    print(i)"
   ]
  },
  {
   "cell_type": "markdown",
   "id": "e6922f57",
   "metadata": {},
   "source": [
    "### 4.5) Exercícios\n",
    "\n",
    "1. **Tabuada personalizada**: dado `n`, imprima `n × 1..10`.\n",
    "2. **Contagem de vogais**: dada uma string, conte vogais (sem usar listas).\n",
    "3. **Fatorial**: calcule `n!` com `for`.\n",
    "\n",
    "**Desafio - Aproximação de `e^x` via Série Truncada:** \n",
    "A função exponencial \\( e^x \\) pode ser representada como uma **série de Taylor (ou Maclaurin)**:\n",
    "\n",
    "$$\n",
    "e^x = \\sum_{k=0}^{\\infty} \\frac{x^k}{k!}\n",
    "= 1 + \\frac{x}{1!} + \\frac{x^2}{2!} + \\frac{x^3}{3!} + \\frac{x^4}{4!} + \\cdots\n",
    "$$\n",
    "\n",
    "Essa expressão mostra que \\( e^x \\) pode ser aproximado pela soma dos primeiros termos da série, chamada de **série truncada**:\n",
    "\n",
    "$$\n",
    "e^x \\approx \\sum_{k=0}^{n} \\frac{x^k}{k!}\n",
    "$$\n",
    "\n",
    "Quanto maior o número de termos \\( n \\), mais próxima será a aproximação do valor real de \\( e^x \\).\n",
    "\n",
    "**Tarefa:** Implemente um programa que leia um valor de \\( x \\) e calcule a aproximação de \\( e^x \\) utilizando a série truncada."
   ]
  },
  {
   "cell_type": "markdown",
   "id": "e56886f5",
   "metadata": {},
   "source": [
    "## 5) Por que usar o padrão **do–while** (repita–ate)?"
   ]
  },
  {
   "cell_type": "markdown",
   "id": "b1ee4ec4",
   "metadata": {},
   "source": [
    "Quando precisamos garantir **pelo menos uma execução** (ex.: validar entrada), sem `do–while` é comum **duplicar código** antes do `while`."
   ]
  },
  {
   "cell_type": "markdown",
   "id": "0a714ac4",
   "metadata": {},
   "source": [
    "### 5.1) Laço `repita–ate` (Portugol)\n",
    "\n",
    "Executa o corpo **ao menos uma vez** (testa a condição **depois**).\n",
    "```portugol\n",
    "repita\n",
    "    // corpo\n",
    "ate (condicao)\n",
    "```"
   ]
  },
  {
   "cell_type": "markdown",
   "id": "2910ccf0-55e4-4a05-9314-24d61c0d04a9",
   "metadata": {},
   "source": [
    "### 5.2) Equivalente em Python\n",
    "\n",
    "Em Python **não existe a estrutura `do-while`**, comum em outras linguagens como C ou Java, onde o bloco de código é executado pelo menos uma vez antes da verificação da condição. No Python, só temos o `while`, que testa a condição logo no início do loop. Para simular o comportamento de um `do-while`, normalmente escrevemos um `while True:` seguido do bloco de código e, ao final, usamos um `if` com `break` para decidir se o loop continua ou não.\n",
    "\n",
    "**Equivalente em Python:**\n",
    "```python\n",
    "while True:\n",
    "    # corpo\n",
    "    if condicao:\n",
    "        break\n",
    "```"
   ]
  }
 ],
 "metadata": {
  "kernelspec": {
   "display_name": "Python 3 (ipykernel)",
   "language": "python",
   "name": "python3"
  },
  "language_info": {
   "codemirror_mode": {
    "name": "ipython",
    "version": 3
   },
   "file_extension": ".py",
   "mimetype": "text/x-python",
   "name": "python",
   "nbconvert_exporter": "python",
   "pygments_lexer": "ipython3",
   "version": "3.13.5"
  }
 },
 "nbformat": 4,
 "nbformat_minor": 5
}
