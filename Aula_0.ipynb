{
  "metadata": {
    "kernelspec": {
      "name": "python",
      "display_name": "Python (Pyodide)",
      "language": "python"
    },
    "language_info": {
      "codemirror_mode": {
        "name": "python",
        "version": 3
      },
      "file_extension": ".py",
      "mimetype": "text/x-python",
      "name": "python",
      "nbconvert_exporter": "python",
      "pygments_lexer": "ipython3",
      "version": "3.8"
    }
  },
  "nbformat_minor": 5,
  "nbformat": 4,
  "cells": [
    {
      "id": "52166a2c-d5b9-404d-9529-73f49d9651a0",
      "cell_type": "code",
      "source": "print(\"Hello World\")",
      "metadata": {
        "trusted": true
      },
      "outputs": [
        {
          "name": "stdout",
          "output_type": "stream",
          "text": "Hello World\n"
        }
      ],
      "execution_count": 2
    },
    {
      "id": "a546c7bb-8d39-42af-9da4-778062865e8f",
      "cell_type": "code",
      "source": "print(2+3)\nprint(10/5)\nprint(2*3)\nprint(7.80-0.79)\n\nprint(\"Soma de 3 + 4 é igual a:\",3+4)",
      "metadata": {
        "trusted": true
      },
      "outputs": [
        {
          "name": "stdout",
          "output_type": "stream",
          "text": "5\n2.0\n6\n7.01\nSoma de 3 + 4 é igual a: 7\n"
        }
      ],
      "execution_count": 5
    },
    {
      "id": "6f1b74e4-0651-4e8e-999b-5a9130ed4626",
      "cell_type": "code",
      "source": "x = 10\ny = x + 5\nprint(y)\n\ncontador = 0\ncontador = 1\ncontador = contador + 1\nprint(contador)\n\ncontador_2 = 1\ncontador_2 = 0\ncontador_2 = contador_2 + 1\nprint(contador_2)",
      "metadata": {
        "trusted": true
      },
      "outputs": [
        {
          "name": "stdout",
          "output_type": "stream",
          "text": "15\n2\n1\n"
        }
      ],
      "execution_count": 10
    },
    {
      "id": "67a071ab-e3a1-488c-a50c-f9ff9c51ec4a",
      "cell_type": "code",
      "source": "#Exemplo\n\nnome = \"Luiz\"\nidade= \"19\"\naltura = \"1,75\"\n\nprint(\"Olá, meu nome é\",nome,\"minha idade é\",idade,\"minha altura é\",altura)",
      "metadata": {
        "trusted": true
      },
      "outputs": [
        {
          "name": "stdout",
          "output_type": "stream",
          "text": "Olá, meu nome é Luiz minha idade é 19 minha altura é 1,75\n"
        }
      ],
      "execution_count": 18
    },
    {
      "id": "06153e94-22c7-4820-9ce2-688cf6a10ea1",
      "cell_type": "code",
      "source": "# Exercício\n\nX_str = input(\"Chooser your number:\")\nX_int = int(X_str)\nprova = (X_int % 2)\n\nif prova == 0:\n    print(\"Par\")\nelse:\n    print(\"Ímpar\")\n",
      "metadata": {
        "trusted": true
      },
      "outputs": [
        {
          "output_type": "stream",
          "name": "stdin",
          "text": "Chooser your number: 21\n"
        },
        {
          "name": "stdout",
          "output_type": "stream",
          "text": "Ímpar\n"
        }
      ],
      "execution_count": 57
    },
    {
      "id": "d1e935b5-b0e6-4f1e-bc1c-70ab6993980b",
      "cell_type": "code",
      "source": "# Exercício Otimizado\n\nx = int(input(\"Escolha um número: \"))\n\nif x % 2 == 0:\n    print(\"Par\")\nelse:\n    print(\"Ímpar\")\n",
      "metadata": {
        "trusted": true
      },
      "outputs": [
        {
          "output_type": "stream",
          "name": "stdin",
          "text": "Chooser your number 2\n"
        },
        {
          "name": "stdout",
          "output_type": "stream",
          "text": "Par\n"
        }
      ],
      "execution_count": 45
    },
    {
      "id": "087ecbe2-f058-481a-a162-4ac0f90464bc",
      "cell_type": "code",
      "source": "float_number = (15.0)\nprint(type(float_number))\n\nint_number = int(float_number)\nprint(type(int_number))\n\nint_number2 = 5\nprint(type(int_number2))\nstr_text = str(int_number2)\nprint(str_text + \" testes\")\nprint(type(str_text))\n\n",
      "metadata": {
        "trusted": true
      },
      "outputs": [
        {
          "name": "stdout",
          "output_type": "stream",
          "text": "<class 'float'>\n<class 'int'>\n<class 'int'>\n5 testes\n<class 'str'>\n"
        }
      ],
      "execution_count": 72
    },
    {
      "id": "36d0e491-9a46-4cef-b173-a45e7038bb15",
      "cell_type": "code",
      "source": "",
      "metadata": {
        "trusted": true
      },
      "outputs": [],
      "execution_count": null
    }
  ]
}
